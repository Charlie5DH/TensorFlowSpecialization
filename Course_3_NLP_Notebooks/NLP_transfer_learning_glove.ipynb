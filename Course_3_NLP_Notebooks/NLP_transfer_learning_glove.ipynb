{
 "cells": [
  {
   "cell_type": "code",
   "execution_count": null,
   "metadata": {
    "colab": {},
    "colab_type": "code",
    "id": "zX4Kg8DUTKWO"
   },
   "outputs": [],
   "source": [
    "#@title Licensed under the Apache License, Version 2.0 (the \"License\");\n",
    "# you may not use this file except in compliance with the License.\n",
    "# You may obtain a copy of the License at\n",
    "#\n",
    "# https://www.apache.org/licenses/LICENSE-2.0\n",
    "#\n",
    "# Unless required by applicable law or agreed to in writing, software\n",
    "# distributed under the License is distributed on an \"AS IS\" BASIS,\n",
    "# WITHOUT WARRANTIES OR CONDITIONS OF ANY KIND, either express or implied.\n",
    "# See the License for the specific language governing permissions and\n",
    "# limitations under the License."
   ]
  },
  {
   "cell_type": "markdown",
   "metadata": {
    "colab_type": "text",
    "id": "jLE54ZnO-V3w"
   },
   "source": [
    "<a href=\"https://colab.research.google.com/github/lmoroney/dlaicourse/blob/master/TensorFlow%20In%20Practice/Course%203%20-%20NLP/NLP%20Course%20-%20Week%203%20Exercise%20Answer.ipynb\" target=\"_parent\"><img src=\"https://colab.research.google.com/assets/colab-badge.svg\" alt=\"Open In Colab\"/></a>"
   ]
  },
  {
   "cell_type": "code",
   "execution_count": 1,
   "metadata": {
    "colab": {},
    "colab_type": "code",
    "id": "hmA6EzkQJ5jt"
   },
   "outputs": [],
   "source": [
    "import json\n",
    "import tensorflow as tf\n",
    "import csv\n",
    "import random\n",
    "import numpy as np\n",
    "\n",
    "from tensorflow.keras.preprocessing.text import Tokenizer\n",
    "from tensorflow.keras.preprocessing.sequence import pad_sequences\n",
    "from tensorflow.keras.utils import to_categorical\n",
    "from tensorflow.keras import regularizers\n",
    "\n",
    "\n",
    "embedding_dim = 100\n",
    "max_length = 16\n",
    "trunc_type='post'\n",
    "padding_type='post'\n",
    "oov_tok = \"<OOV>\"\n",
    "training_size=160000\n",
    "test_portion=.1\n",
    "\n",
    "corpus = []\n"
   ]
  },
  {
   "cell_type": "code",
   "execution_count": 2,
   "metadata": {
    "colab": {
     "base_uri": "https://localhost:8080/",
     "height": 204
    },
    "colab_type": "code",
    "id": "bM0l_dORKqE0",
    "outputId": "314c4685-abe8-4d64-defa-0ea10f1c763b"
   },
   "outputs": [
    {
     "name": "stdout",
     "output_type": "stream",
     "text": [
      "--2020-08-15 22:07:57--  https://storage.googleapis.com/laurencemoroney-blog.appspot.com/training_cleaned.csv\n",
      "Resolving storage.googleapis.com (storage.googleapis.com)... 74.125.142.128, 74.125.195.128, 173.194.203.128, ...\n",
      "Connecting to storage.googleapis.com (storage.googleapis.com)|74.125.142.128|:443... connected.\n",
      "HTTP request sent, awaiting response... 200 OK\n",
      "Length: 238942690 (228M) [application/octet-stream]\n",
      "Saving to: ‘/tmp/training_cleaned.csv’\n",
      "\n",
      "/tmp/training_clean 100%[===================>] 227.87M   126MB/s    in 1.8s    \n",
      "\n",
      "2020-08-15 22:07:59 (126 MB/s) - ‘/tmp/training_cleaned.csv’ saved [238942690/238942690]\n",
      "\n"
     ]
    }
   ],
   "source": [
    "# Note that I cleaned the Stanford dataset to remove LATIN1 encoding to make it easier for Python CSV reader\n",
    "# You can do that yourself with:\n",
    "# iconv -f LATIN1 -t UTF8 training.1600000.processed.noemoticon.csv -o training_cleaned.csv\n",
    "# I then hosted it on my site to make it easier to use in this notebook\n",
    "\n",
    "!wget --no-check-certificate \\\n",
    "    https://storage.googleapis.com/laurencemoroney-blog.appspot.com/training_cleaned.csv \\\n",
    "    -O /tmp/training_cleaned.csv\n",
    "\n",
    "num_sentences = 0\n",
    "\n",
    "with open(\"/tmp/training_cleaned.csv\") as csvfile:\n",
    "    reader = csv.reader(csvfile, delimiter=',')\n",
    "    for row in reader:\n",
    "        list_item=[]\n",
    "        list_item.append(row[5])\n",
    "        this_label=row[0]\n",
    "        if this_label=='0':\n",
    "            list_item.append(0)\n",
    "        else:\n",
    "            list_item.append(1)\n",
    "        num_sentences = num_sentences + 1\n",
    "        corpus.append(list_item)\n"
   ]
  },
  {
   "cell_type": "code",
   "execution_count": 10,
   "metadata": {
    "colab": {
     "base_uri": "https://localhost:8080/",
     "height": 68
    },
    "colab_type": "code",
    "id": "3kxblBUjEUX-",
    "outputId": "cb1ba4c8-c875-4d14-f981-c19cc75e22e6"
   },
   "outputs": [
    {
     "name": "stdout",
     "output_type": "stream",
     "text": [
      "1600000\n",
      "1600000\n",
      "['@HanselDobbs Wish I was the same! Still sitting with a useless iPhone next to me... ', 0]\n"
     ]
    }
   ],
   "source": [
    "print(num_sentences)\n",
    "print(len(corpus))\n",
    "print(corpus[1])\n",
    "\n",
    "# Expected Output:\n",
    "# 1600000\n",
    "# 1600000\n",
    "# [\"is upset that he can't update his Facebook by texting it... and might cry as a result  School today also. Blah!\", 0]"
   ]
  },
  {
   "cell_type": "code",
   "execution_count": 17,
   "metadata": {
    "colab": {
     "base_uri": "https://localhost:8080/",
     "height": 51
    },
    "colab_type": "code",
    "id": "qJjl_j3CQhh7",
    "outputId": "2a7370b8-6bc0-4d77-b3b7-f4e66039f527"
   },
   "outputs": [
    {
     "name": "stdout",
     "output_type": "stream",
     "text": [
      "160000\n",
      "160000\n"
     ]
    }
   ],
   "source": [
    "sentences=[]\n",
    "labels=[]\n",
    "random.shuffle(corpus)\n",
    "for x in range(training_size):\n",
    "    sentences.append(corpus[x][0])\n",
    "    labels.append(corpus[x][1])\n",
    "\n",
    "print(len(sentences))\n",
    "print(len(labels))"
   ]
  },
  {
   "cell_type": "code",
   "execution_count": 11,
   "metadata": {
    "colab": {},
    "colab_type": "code",
    "id": "ohOGz24lsNAD"
   },
   "outputs": [],
   "source": [
    "tokenizer = Tokenizer()\n",
    "tokenizer.fit_on_texts(sentences)\n",
    "\n",
    "word_index = tokenizer.word_index\n",
    "vocab_size=len(word_index)\n",
    "\n",
    "sequences = tokenizer.texts_to_sequences(sentences)\n",
    "padded = pad_sequences(sequences, maxlen=max_length, padding=padding_type, truncating=trunc_type)\n",
    "\n",
    "split = int(test_portion * training_size)\n",
    "\n",
    "test_sequences = padded[0:split]\n",
    "training_sequences = padded[split:training_size]\n",
    "test_labels = labels[0:split]\n",
    "training_labels = labels[split:training_size]"
   ]
  },
  {
   "cell_type": "code",
   "execution_count": 5,
   "metadata": {
    "colab": {
     "base_uri": "https://localhost:8080/",
     "height": 51
    },
    "colab_type": "code",
    "id": "gIrtRem1En3N",
    "outputId": "72ac1d86-89af-4936-c16d-78657e521308"
   },
   "outputs": [
    {
     "name": "stdout",
     "output_type": "stream",
     "text": [
      "138661\n",
      "1\n"
     ]
    }
   ],
   "source": [
    "print(vocab_size)\n",
    "print(word_index['i'])\n",
    "# Expected Output\n",
    "# 138858\n",
    "# 1"
   ]
  },
  {
   "cell_type": "code",
   "execution_count": 6,
   "metadata": {
    "colab": {
     "base_uri": "https://localhost:8080/",
     "height": 204
    },
    "colab_type": "code",
    "id": "C1zdgJkusRh0",
    "outputId": "0e97da58-1ac7-4d5a-be55-ab962ddb8cad"
   },
   "outputs": [
    {
     "name": "stdout",
     "output_type": "stream",
     "text": [
      "--2020-08-15 22:08:13--  https://storage.googleapis.com/laurencemoroney-blog.appspot.com/glove.6B.100d.txt\n",
      "Resolving storage.googleapis.com (storage.googleapis.com)... 74.125.142.128, 74.125.195.128, 2607:f8b0:400e:c08::80, ...\n",
      "Connecting to storage.googleapis.com (storage.googleapis.com)|74.125.142.128|:443... connected.\n",
      "HTTP request sent, awaiting response... 200 OK\n",
      "Length: 347116733 (331M) [text/plain]\n",
      "Saving to: ‘/tmp/glove.6B.100d.txt’\n",
      "\n",
      "/tmp/glove.6B.100d. 100%[===================>] 331.04M   183MB/s    in 1.8s    \n",
      "\n",
      "2020-08-15 22:08:15 (183 MB/s) - ‘/tmp/glove.6B.100d.txt’ saved [347116733/347116733]\n",
      "\n"
     ]
    }
   ],
   "source": [
    "# Note this is the 100 dimension version of GloVe from Stanford\n",
    "# I unzipped and hosted it on my site to make this notebook easier\n",
    "!wget --no-check-certificate \\\n",
    "    https://storage.googleapis.com/laurencemoroney-blog.appspot.com/glove.6B.100d.txt \\\n",
    "    -O /tmp/glove.6B.100d.txt\n",
    "embeddings_index = {};\n",
    "with open('/tmp/glove.6B.100d.txt') as f:\n",
    "    for line in f:\n",
    "        values = line.split();\n",
    "        word = values[0];\n",
    "        coefs = np.asarray(values[1:], dtype='float32');\n",
    "        embeddings_index[word] = coefs;\n",
    "\n",
    "embeddings_matrix = np.zeros((vocab_size+1, embedding_dim));\n",
    "for word, i in word_index.items():\n",
    "    embedding_vector = embeddings_index.get(word);\n",
    "    if embedding_vector is not None:\n",
    "        embeddings_matrix[i] = embedding_vector;"
   ]
  },
  {
   "cell_type": "code",
   "execution_count": 7,
   "metadata": {
    "colab": {
     "base_uri": "https://localhost:8080/",
     "height": 34
    },
    "colab_type": "code",
    "id": "71NLk_lpFLNt",
    "outputId": "03399fda-0648-463d-e8fe-078c4e05ce22"
   },
   "outputs": [
    {
     "name": "stdout",
     "output_type": "stream",
     "text": [
      "138662\n"
     ]
    }
   ],
   "source": [
    "print(len(embeddings_matrix))\n",
    "# Expected Output\n",
    "# 138859"
   ]
  },
  {
   "cell_type": "code",
   "execution_count": 8,
   "metadata": {
    "colab": {
     "base_uri": "https://localhost:8080/",
     "height": 1000
    },
    "colab_type": "code",
    "id": "iKKvbuEBOGFz",
    "outputId": "77734871-e8ba-42d3-b655-0ede03bd84b3"
   },
   "outputs": [
    {
     "name": "stdout",
     "output_type": "stream",
     "text": [
      "Model: \"sequential\"\n",
      "_________________________________________________________________\n",
      "Layer (type)                 Output Shape              Param #   \n",
      "=================================================================\n",
      "embedding (Embedding)        (None, 16, 100)           13866200  \n",
      "_________________________________________________________________\n",
      "dropout (Dropout)            (None, 16, 100)           0         \n",
      "_________________________________________________________________\n",
      "conv1d (Conv1D)              (None, 12, 64)            32064     \n",
      "_________________________________________________________________\n",
      "max_pooling1d (MaxPooling1D) (None, 3, 64)             0         \n",
      "_________________________________________________________________\n",
      "lstm (LSTM)                  (None, 64)                33024     \n",
      "_________________________________________________________________\n",
      "dense (Dense)                (None, 1)                 65        \n",
      "=================================================================\n",
      "Total params: 13,931,353\n",
      "Trainable params: 65,153\n",
      "Non-trainable params: 13,866,200\n",
      "_________________________________________________________________\n",
      "Epoch 1/50\n",
      "4500/4500 - 16s - loss: 0.5679 - accuracy: 0.6992 - val_loss: 0.5269 - val_accuracy: 0.7363\n",
      "Epoch 2/50\n",
      "4500/4500 - 15s - loss: 0.5272 - accuracy: 0.7307 - val_loss: 0.5186 - val_accuracy: 0.7377\n",
      "Epoch 3/50\n",
      "4500/4500 - 15s - loss: 0.5099 - accuracy: 0.7452 - val_loss: 0.5037 - val_accuracy: 0.7508\n",
      "Epoch 4/50\n",
      "4500/4500 - 16s - loss: 0.4992 - accuracy: 0.7532 - val_loss: 0.5052 - val_accuracy: 0.7502\n",
      "Epoch 5/50\n",
      "4500/4500 - 15s - loss: 0.4899 - accuracy: 0.7595 - val_loss: 0.5008 - val_accuracy: 0.7540\n",
      "Epoch 6/50\n",
      "4500/4500 - 15s - loss: 0.4830 - accuracy: 0.7634 - val_loss: 0.5046 - val_accuracy: 0.7566\n",
      "Epoch 7/50\n",
      "4500/4500 - 15s - loss: 0.4782 - accuracy: 0.7659 - val_loss: 0.4991 - val_accuracy: 0.7571\n",
      "Epoch 8/50\n",
      "4500/4500 - 15s - loss: 0.4723 - accuracy: 0.7698 - val_loss: 0.5009 - val_accuracy: 0.7544\n",
      "Epoch 9/50\n",
      "4500/4500 - 15s - loss: 0.4671 - accuracy: 0.7727 - val_loss: 0.5061 - val_accuracy: 0.7524\n",
      "Epoch 10/50\n",
      "4500/4500 - 15s - loss: 0.4631 - accuracy: 0.7753 - val_loss: 0.5067 - val_accuracy: 0.7477\n",
      "Epoch 11/50\n",
      "4500/4500 - 15s - loss: 0.4599 - accuracy: 0.7780 - val_loss: 0.5046 - val_accuracy: 0.7542\n",
      "Epoch 12/50\n",
      "4500/4500 - 15s - loss: 0.4562 - accuracy: 0.7808 - val_loss: 0.5056 - val_accuracy: 0.7523\n",
      "Epoch 13/50\n",
      "4500/4500 - 15s - loss: 0.4541 - accuracy: 0.7827 - val_loss: 0.5042 - val_accuracy: 0.7545\n",
      "Epoch 14/50\n",
      "4500/4500 - 15s - loss: 0.4516 - accuracy: 0.7817 - val_loss: 0.5071 - val_accuracy: 0.7531\n",
      "Epoch 15/50\n",
      "4500/4500 - 15s - loss: 0.4498 - accuracy: 0.7835 - val_loss: 0.5061 - val_accuracy: 0.7541\n",
      "Epoch 16/50\n",
      "4500/4500 - 15s - loss: 0.4471 - accuracy: 0.7859 - val_loss: 0.5211 - val_accuracy: 0.7482\n",
      "Epoch 17/50\n",
      "4500/4500 - 15s - loss: 0.4445 - accuracy: 0.7861 - val_loss: 0.5088 - val_accuracy: 0.7526\n",
      "Epoch 18/50\n",
      "4500/4500 - 15s - loss: 0.4437 - accuracy: 0.7872 - val_loss: 0.5117 - val_accuracy: 0.7496\n",
      "Epoch 19/50\n",
      "4500/4500 - 15s - loss: 0.4423 - accuracy: 0.7883 - val_loss: 0.5137 - val_accuracy: 0.7477\n",
      "Epoch 20/50\n",
      "4500/4500 - 15s - loss: 0.4406 - accuracy: 0.7895 - val_loss: 0.5182 - val_accuracy: 0.7527\n",
      "Epoch 21/50\n",
      "4500/4500 - 15s - loss: 0.4399 - accuracy: 0.7894 - val_loss: 0.5189 - val_accuracy: 0.7522\n",
      "Epoch 22/50\n",
      "4500/4500 - 15s - loss: 0.4385 - accuracy: 0.7904 - val_loss: 0.5131 - val_accuracy: 0.7490\n",
      "Epoch 23/50\n",
      "4500/4500 - 15s - loss: 0.4367 - accuracy: 0.7915 - val_loss: 0.5174 - val_accuracy: 0.7532\n",
      "Epoch 24/50\n",
      "4500/4500 - 16s - loss: 0.4373 - accuracy: 0.7908 - val_loss: 0.5207 - val_accuracy: 0.7551\n",
      "Epoch 25/50\n",
      "4500/4500 - 15s - loss: 0.4370 - accuracy: 0.7917 - val_loss: 0.5102 - val_accuracy: 0.7509\n",
      "Epoch 26/50\n",
      "4500/4500 - 15s - loss: 0.4357 - accuracy: 0.7920 - val_loss: 0.5140 - val_accuracy: 0.7513\n",
      "Epoch 27/50\n",
      "4500/4500 - 15s - loss: 0.4335 - accuracy: 0.7931 - val_loss: 0.5172 - val_accuracy: 0.7489\n",
      "Epoch 28/50\n",
      "4500/4500 - 15s - loss: 0.4322 - accuracy: 0.7937 - val_loss: 0.5146 - val_accuracy: 0.7527\n",
      "Epoch 29/50\n",
      "4500/4500 - 15s - loss: 0.4331 - accuracy: 0.7933 - val_loss: 0.5172 - val_accuracy: 0.7513\n",
      "Epoch 30/50\n",
      "4500/4500 - 15s - loss: 0.4318 - accuracy: 0.7944 - val_loss: 0.5203 - val_accuracy: 0.7473\n",
      "Epoch 31/50\n",
      "4500/4500 - 15s - loss: 0.4316 - accuracy: 0.7957 - val_loss: 0.5175 - val_accuracy: 0.7514\n",
      "Epoch 32/50\n",
      "4500/4500 - 15s - loss: 0.4317 - accuracy: 0.7947 - val_loss: 0.5197 - val_accuracy: 0.7488\n",
      "Epoch 33/50\n",
      "4500/4500 - 15s - loss: 0.4297 - accuracy: 0.7949 - val_loss: 0.5220 - val_accuracy: 0.7496\n",
      "Epoch 34/50\n",
      "4500/4500 - 15s - loss: 0.4288 - accuracy: 0.7952 - val_loss: 0.5228 - val_accuracy: 0.7462\n",
      "Epoch 35/50\n",
      "4500/4500 - 15s - loss: 0.4262 - accuracy: 0.7963 - val_loss: 0.5183 - val_accuracy: 0.7501\n",
      "Epoch 36/50\n",
      "4500/4500 - 15s - loss: 0.4280 - accuracy: 0.7970 - val_loss: 0.5208 - val_accuracy: 0.7486\n",
      "Epoch 37/50\n",
      "4500/4500 - 15s - loss: 0.4284 - accuracy: 0.7959 - val_loss: 0.5206 - val_accuracy: 0.7509\n",
      "Epoch 38/50\n",
      "4500/4500 - 15s - loss: 0.4286 - accuracy: 0.7966 - val_loss: 0.5177 - val_accuracy: 0.7524\n",
      "Epoch 39/50\n",
      "4500/4500 - 15s - loss: 0.4275 - accuracy: 0.7971 - val_loss: 0.5190 - val_accuracy: 0.7473\n",
      "Epoch 40/50\n",
      "4500/4500 - 15s - loss: 0.4271 - accuracy: 0.7974 - val_loss: 0.5248 - val_accuracy: 0.7479\n",
      "Epoch 41/50\n",
      "4500/4500 - 15s - loss: 0.4270 - accuracy: 0.7976 - val_loss: 0.5199 - val_accuracy: 0.7473\n",
      "Epoch 42/50\n",
      "4500/4500 - 15s - loss: 0.4272 - accuracy: 0.7975 - val_loss: 0.5178 - val_accuracy: 0.7502\n",
      "Epoch 43/50\n",
      "4500/4500 - 15s - loss: 0.4270 - accuracy: 0.7975 - val_loss: 0.5192 - val_accuracy: 0.7501\n",
      "Epoch 44/50\n",
      "4500/4500 - 15s - loss: 0.4267 - accuracy: 0.7979 - val_loss: 0.5220 - val_accuracy: 0.7498\n",
      "Epoch 45/50\n",
      "4500/4500 - 16s - loss: 0.4256 - accuracy: 0.7980 - val_loss: 0.5188 - val_accuracy: 0.7513\n",
      "Epoch 46/50\n",
      "4500/4500 - 15s - loss: 0.4249 - accuracy: 0.7979 - val_loss: 0.5250 - val_accuracy: 0.7507\n",
      "Epoch 47/50\n",
      "4500/4500 - 15s - loss: 0.4240 - accuracy: 0.7999 - val_loss: 0.5221 - val_accuracy: 0.7439\n",
      "Epoch 48/50\n",
      "4500/4500 - 15s - loss: 0.4240 - accuracy: 0.7991 - val_loss: 0.5299 - val_accuracy: 0.7484\n",
      "Epoch 49/50\n",
      "4500/4500 - 15s - loss: 0.4245 - accuracy: 0.7996 - val_loss: 0.5213 - val_accuracy: 0.7496\n",
      "Epoch 50/50\n",
      "4500/4500 - 15s - loss: 0.4241 - accuracy: 0.7985 - val_loss: 0.5201 - val_accuracy: 0.7471\n",
      "Training Complete\n"
     ]
    }
   ],
   "source": [
    "model = tf.keras.Sequential([\n",
    "    tf.keras.layers.Embedding(vocab_size+1, embedding_dim, input_length=max_length, weights=[embeddings_matrix], trainable=False),\n",
    "    tf.keras.layers.Dropout(0.2),\n",
    "    tf.keras.layers.Conv1D(64, 5, activation='relu'),\n",
    "    tf.keras.layers.MaxPooling1D(pool_size=4),\n",
    "    tf.keras.layers.LSTM(64),\n",
    "    tf.keras.layers.Dense(1, activation='sigmoid')\n",
    "])\n",
    "model.compile(loss='binary_crossentropy',optimizer='adam',metrics=['accuracy'])\n",
    "model.summary()\n",
    "\n",
    "num_epochs = 50\n",
    "\n",
    "training_padded = np.array(training_sequences)\n",
    "training_labels = np.array(training_labels)\n",
    "testing_padded = np.array(test_sequences)\n",
    "testing_labels = np.array(test_labels)\n",
    "\n",
    "history = model.fit(training_padded, training_labels, epochs=num_epochs, validation_data=(testing_padded, testing_labels), verbose=2)\n",
    "\n",
    "print(\"Training Complete\")"
   ]
  },
  {
   "cell_type": "code",
   "execution_count": 12,
   "metadata": {
    "colab": {
     "base_uri": "https://localhost:8080/",
     "height": 607
    },
    "colab_type": "code",
    "id": "qxju4ItJKO8F",
    "outputId": "8a7d0b6c-44f1-4f05-b471-54e913142479"
   },
   "outputs": [
    {
     "data": {
      "text/plain": [
       "<Figure size 432x288 with 0 Axes>"
      ]
     },
     "execution_count": 12,
     "metadata": {
      "tags": []
     },
     "output_type": "execute_result"
    },
    {
     "data": {
      "image/png": "[encoded data removed]",
      "text/plain": [
       "<Figure size 432x288 with 1 Axes>"
      ]
     },
     "metadata": {
      "needs_background": "light",
      "tags": []
     },
     "output_type": "display_data"
    },
    {
     "data": {
      "image/png": "[encoded data removed]",
      "text/plain": [
       "<Figure size 432x288 with 1 Axes>"
      ]
     },
     "metadata": {
      "needs_background": "light",
      "tags": []
     },
     "output_type": "display_data"
    },
    {
     "data": {
      "text/plain": [
       "<Figure size 432x288 with 0 Axes>"
      ]
     },
     "metadata": {
      "tags": []
     },
     "output_type": "display_data"
    }
   ],
   "source": [
    "import matplotlib.image  as mpimg\n",
    "import matplotlib.pyplot as plt\n",
    "\n",
    "#-----------------------------------------------------------\n",
    "# Retrieve a list of list results on training and test data\n",
    "# sets for each training epoch\n",
    "#-----------------------------------------------------------\n",
    "acc=history.history['accuracy']\n",
    "val_acc=history.history['val_accuracy']\n",
    "loss=history.history['loss']\n",
    "val_loss=history.history['val_loss']\n",
    "\n",
    "epochs=range(len(acc)) # Get number of epochs\n",
    "\n",
    "#------------------------------------------------\n",
    "# Plot training and validation accuracy per epoch\n",
    "#------------------------------------------------\n",
    "plt.plot(epochs, acc, 'r')\n",
    "plt.plot(epochs, val_acc, 'b')\n",
    "plt.title('Training and validation accuracy')\n",
    "plt.xlabel(\"Epochs\")\n",
    "plt.ylabel(\"Accuracy\")\n",
    "plt.legend([\"Accuracy\", \"Validation Accuracy\"])\n",
    "\n",
    "plt.figure()\n",
    "\n",
    "#------------------------------------------------\n",
    "# Plot training and validation loss per epoch\n",
    "#------------------------------------------------\n",
    "plt.plot(epochs, loss, 'r')\n",
    "plt.plot(epochs, val_loss, 'b')\n",
    "plt.title('Training and validation loss')\n",
    "plt.xlabel(\"Epochs\")\n",
    "plt.ylabel(\"Loss\")\n",
    "plt.legend([\"Loss\", \"Validation Loss\"])\n",
    "\n",
    "plt.figure()\n",
    "\n",
    "\n",
    "# Expected Output\n",
    "# A chart where the validation loss does not increase sharply!"
   ]
  },
  {
   "cell_type": "code",
   "execution_count": null,
   "metadata": {
    "colab": {},
    "colab_type": "code",
    "id": "mqPoXw-2KjJJ"
   },
   "outputs": [],
   "source": []
  }
 ],
 "metadata": {
  "accelerator": "GPU",
  "colab": {
   "name": "NLP Course - Week 3 Exercise Answer.ipynb",
   "provenance": [],
   "toc_visible": true
  },
  "kernelspec": {
   "display_name": "Python 3",
   "language": "python",
   "name": "python3"
  },
  "language_info": {
   "codemirror_mode": {
    "name": "ipython",
    "version": 3
   },
   "file_extension": ".py",
   "mimetype": "text/x-python",
   "name": "python",
   "nbconvert_exporter": "python",
   "pygments_lexer": "ipython3",
   "version": "3.7.4"
  }
 },
 "nbformat": 4,
 "nbformat_minor": 4
}
